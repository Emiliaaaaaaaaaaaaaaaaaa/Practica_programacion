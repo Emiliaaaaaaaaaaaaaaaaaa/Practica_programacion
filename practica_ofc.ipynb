{
  "nbformat": 4,
  "nbformat_minor": 0,
  "metadata": {
    "colab": {
      "provenance": []
    },
    "kernelspec": {
      "name": "python3",
      "display_name": "Python 3"
    },
    "language_info": {
      "name": "python"
    }
  },
  "cells": [
    {
      "cell_type": "code",
      "execution_count": 4,
      "metadata": {
        "id": "gOJwRdNIK4CI",
        "colab": {
          "base_uri": "https://localhost:8080/"
        },
        "outputId": "468a30ef-4d60-48e2-be0c-9ca9a041b843"
      },
      "outputs": [
        {
          "output_type": "stream",
          "name": "stdout",
          "text": [
            "Ingrese una cadena: (((())))\n",
            "La Cadena es: True\n"
          ]
        }
      ],
      "source": [
        "alfabeto = ['(', ')', ' ']      # el alfabeto son todos aquellos elementos de nuestro lenguaje que sirven para formar palabras (cadenas)\n",
        "Pila = []                       # utilizaremos la estructura de pilas.\n",
        "\n",
        "def verdadero_o_falso(cadena):\n",
        "    '''La funcion verdadero_o_falso sirve para determinar el valor de True o False dada una cadena introducida por el usuario.\n",
        "    Recibe como parametros cadenas de parentesis, i.e. exista una cadena '''\n",
        "    for caracter in cadena:             # emplearemos un ciclo for para iterar sobre cada uno de los elementos (caracteres) de la cadena.\n",
        "        if caracter not in alfabeto:    # para cada caracter en la cadena, si no está en el alfabeto, que imprima falso y el caracter, además que\n",
        "            print('False', caracter)    # devuelva la cadena introducida.\n",
        "            return False\n",
        "\n",
        "    for caracter in cadena:             # empleamos otro ciclo for dada la misma cadena introducida\n",
        "        if caracter == '(':             # si el caracter es igual al parentesis de abertura, entonces que lo guarde en la variable Pila.\n",
        "            Pila.append(caracter)\n",
        "        elif caracter == ')':           # si el caracter es igual al parentesis de cierre, y además la longitud de la pila es vacia o\n",
        "            if len(Pila) == 0 or Pila.pop() != '(':\n",
        "                print('False',)         # si se el carecter cumple elif, entonces imprime falso.\n",
        "                return False\n",
        "\n",
        "    if len(Pila) == 0:                  # empleamos el condicional para definir lo que sucede cuando la cadena es vacía.\n",
        "        return True                   # si la cadena es vacía que sea evaluaca como verdadera.\n",
        "    else:\n",
        "        return False                  # en otro caso, imprima falso.\n",
        "\n",
        "def main():\n",
        "    '''La variable s1 recupera la cadena introducida por el usuario,\n",
        "    llama la funcion definida anteriormente y evalua la variable s1 de acuerdo a lo anterior. '''\n",
        "    s1 = input(\"Ingrese una cadena: \")\n",
        "    r = verdadero_o_falso(s1)\n",
        "    print(\"La Cadena es: \" + str(r))\n",
        "\n",
        "if __name__ == \"__main__\":\n",
        "  main()"
      ]
    },
    {
      "cell_type": "code",
      "source": [],
      "metadata": {
        "id": "Dj7pADYP3u3Z"
      },
      "execution_count": null,
      "outputs": []
    }
  ]
}